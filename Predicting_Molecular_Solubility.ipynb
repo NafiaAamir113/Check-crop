{
  "nbformat": 4,
  "nbformat_minor": 0,
  "metadata": {
    "colab": {
      "provenance": [],
      "authorship_tag": "ABX9TyNESpB5rfSif1DnGlHS3mrq",
      "include_colab_link": true
    },
    "kernelspec": {
      "name": "python3",
      "display_name": "Python 3"
    },
    "language_info": {
      "name": "python"
    }
  },
  "cells": [
    {
      "cell_type": "markdown",
      "metadata": {
        "id": "view-in-github",
        "colab_type": "text"
      },
      "source": [
        "<a href=\"https://colab.research.google.com/github/NafiaAamir113/Check-crop/blob/main/Predicting_Molecular_Solubility.ipynb\" target=\"_parent\"><img src=\"https://colab.research.google.com/assets/colab-badge.svg\" alt=\"Open In Colab\"/></a>"
      ]
    },
    {
      "cell_type": "markdown",
      "source": [
        "#**Libraries**"
      ],
      "metadata": {
        "id": "Quu3kvQses1e"
      }
    },
    {
      "cell_type": "code",
      "execution_count": 1,
      "metadata": {
        "id": "TYS4wrzGedqc"
      },
      "outputs": [],
      "source": [
        "import pandas as pd\n",
        "import numpy as np\n",
        "import joblib\n",
        "import os\n",
        "import matplotlib.pyplot as plt\n",
        "from sklearn.model_selection import train_test_split, GridSearchCV\n",
        "from sklearn.linear_model import LinearRegression\n",
        "from sklearn.ensemble import RandomForestRegressor\n",
        "from sklearn.metrics import mean_absolute_error, mean_squared_error, r2_score\n",
        "from xgboost import XGBRegressor"
      ]
    },
    {
      "cell_type": "markdown",
      "source": [
        "#**Dataset**"
      ],
      "metadata": {
        "id": "L8_NveVyfI3B"
      }
    },
    {
      "cell_type": "code",
      "source": [
        "# Load dataset from URL\n",
        "df = pd.read_csv('https://raw.githubusercontent.com/dataprofessor/data/master/delaney_solubility_with_descriptors.csv')\n",
        "\n",
        "# Separate features (X) and target variable (y)\n",
        "X = df.drop(columns=['logS'])\n",
        "y = df['logS']\n",
        "\n",
        "# Split data into training (80%) and testing (20%) sets\n",
        "X_train, X_test, y_train, y_test = train_test_split(X, y, test_size=0.2, random_state=100)\n"
      ],
      "metadata": {
        "id": "yqqRH9G8fo7D"
      },
      "execution_count": 2,
      "outputs": []
    },
    {
      "cell_type": "markdown",
      "source": [
        "#**Train and Save Linear Regression Model**"
      ],
      "metadata": {
        "id": "W7hwSXeSgLNk"
      }
    },
    {
      "cell_type": "code",
      "source": [
        "# Train a Linear Regression model\n",
        "lr = LinearRegression()\n",
        "lr.fit(X_train, y_train)\n",
        "\n",
        "# Save the trained model\n",
        "joblib.dump(lr, \"solubility_model.pkl\")\n",
        "print(\"Model saved successfully as 'solubility_model.pkl'.\")\n"
      ],
      "metadata": {
        "colab": {
          "base_uri": "https://localhost:8080/"
        },
        "id": "k4dvbctggQf_",
        "outputId": "3893410a-4b37-4875-be3c-c39ae64105bd"
      },
      "execution_count": 3,
      "outputs": [
        {
          "output_type": "stream",
          "name": "stdout",
          "text": [
            "Model saved successfully as 'solubility_model.pkl'.\n"
          ]
        }
      ]
    },
    {
      "cell_type": "markdown",
      "source": [
        "#**Load the Saved Model and Make Predictions**"
      ],
      "metadata": {
        "id": "wXR4Zs0Ngq6M"
      }
    },
    {
      "cell_type": "code",
      "source": [
        "# Check if the model file exists\n",
        "model_path = \"solubility_model.pkl\"\n",
        "if not os.path.exists(model_path):\n",
        "    raise FileNotFoundError(f\"Model file '{model_path}' not found. Train and save the model first.\")\n",
        "\n",
        "# Load the trained model\n",
        "lr_loaded = joblib.load(model_path)\n",
        "print(\"Model loaded successfully!\")\n",
        "\n",
        "# Make predictions on test data\n",
        "y_lr_test_pred = lr_loaded.predict(X_test)\n",
        "print(\"Predictions:\", y_lr_test_pred[:5])\n"
      ],
      "metadata": {
        "colab": {
          "base_uri": "https://localhost:8080/"
        },
        "id": "uIl-AEoKgu6o",
        "outputId": "a6d6358e-0fd9-43d9-c844-3eeca94261fd"
      },
      "execution_count": 4,
      "outputs": [
        {
          "output_type": "stream",
          "name": "stdout",
          "text": [
            "Model loaded successfully!\n",
            "Predictions: [-3.0572287  -7.77785827 -2.5501665  -2.01523582 -2.0637599 ]\n"
          ]
        }
      ]
    },
    {
      "cell_type": "markdown",
      "source": [
        "#**Evaluate the Linear Regression Model**\n",
        "\n"
      ],
      "metadata": {
        "id": "DXYUvsazgyzW"
      }
    },
    {
      "cell_type": "code",
      "source": [
        "# Calculate evaluation metrics\n",
        "print(\"MAE:\", mean_absolute_error(y_test, y_lr_test_pred))\n",
        "print(\"MSE:\", mean_squared_error(y_test, y_lr_test_pred))\n",
        "print(\"R² Score:\", r2_score(y_test, y_lr_test_pred))\n",
        "\n",
        "# Predict solubility for a new sample\n",
        "new_sample = X_test.iloc[:1]\n",
        "new_prediction = lr_loaded.predict(new_sample)\n",
        "print(\"Predicted solubility (logS):\", new_prediction[0])\n"
      ],
      "metadata": {
        "colab": {
          "base_uri": "https://localhost:8080/"
        },
        "id": "R_IeZg_jg_VG",
        "outputId": "4cb2d4ef-16b2-4afe-dee1-85cc10f2a0cb"
      },
      "execution_count": 5,
      "outputs": [
        {
          "output_type": "stream",
          "name": "stdout",
          "text": [
            "MAE: 0.77983023265368\n",
            "MSE: 1.0206953660861033\n",
            "R² Score: 0.7891616188563282\n",
            "Predicted solubility (logS): -3.057228702197173\n"
          ]
        }
      ]
    },
    {
      "cell_type": "markdown",
      "source": [
        "#**Train and Evaluate Random Forest Model**"
      ],
      "metadata": {
        "id": "1u8SwBqvhIdn"
      }
    },
    {
      "cell_type": "code",
      "source": [
        "# Train a Random Forest model\n",
        "rf = RandomForestRegressor(n_estimators=100, random_state=42)\n",
        "rf.fit(X_train, y_train)\n",
        "\n",
        "# Make predictions\n",
        "rf_pred = rf.predict(X_test)\n",
        "\n",
        "# Evaluate the model\n",
        "print(\"Random Forest R² Score:\", r2_score(y_test, rf_pred))\n",
        "\n",
        "# Plot feature importances\n",
        "feature_importances = rf.feature_importances_\n",
        "sorted_idx = np.argsort(feature_importances)[::-1]\n",
        "\n",
        "plt.figure(figsize=(10, 5))\n",
        "plt.bar(range(len(feature_importances)), feature_importances[sorted_idx])\n",
        "plt.xticks(range(len(feature_importances)), X.columns[sorted_idx], rotation=90)\n",
        "plt.title(\"Feature Importances in Random Forest Model\")\n",
        "plt.show()\n"
      ],
      "metadata": {
        "colab": {
          "base_uri": "https://localhost:8080/",
          "height": 613
        },
        "id": "GFtu9LMAhQZd",
        "outputId": "26413276-4269-476e-f28e-f3d9564caec8"
      },
      "execution_count": 6,
      "outputs": [
        {
          "output_type": "stream",
          "name": "stdout",
          "text": [
            "Random Forest R² Score: 0.8663842725648809\n"
          ]
        },
        {
          "output_type": "display_data",
          "data": {
            "text/plain": [
              "<Figure size 1000x500 with 1 Axes>"
            ],
            "image/png": "[encoded data removed]"
          },
          "metadata": {}
        }
      ]
    },
    {
      "cell_type": "markdown",
      "source": [
        "#**Hyperparameter Tuning for Random Forest**"
      ],
      "metadata": {
        "id": "9L65lNAUjqEF"
      }
    },
    {
      "cell_type": "code",
      "source": [
        "# Define parameter grid for tuning\n",
        "param_grid = {\n",
        "    'n_estimators': [100, 200, 300],\n",
        "    'max_depth': [10, 20, None],\n",
        "    'min_samples_split': [2, 5, 10],\n",
        "    'min_samples_leaf': [1, 2, 4]\n",
        "}\n",
        "\n",
        "# Perform GridSearchCV\n",
        "grid_search = GridSearchCV(RandomForestRegressor(random_state=42), param_grid, cv=5, n_jobs=-1)\n",
        "grid_search.fit(X_train, y_train)\n",
        "\n",
        "# Best parameters found\n",
        "print(\"Best Parameters:\", grid_search.best_params_)\n"
      ],
      "metadata": {
        "colab": {
          "base_uri": "https://localhost:8080/"
        },
        "id": "6aH8QcFmjwc_",
        "outputId": "2b09047b-949d-48ca-d87c-0403bc981d41"
      },
      "execution_count": 7,
      "outputs": [
        {
          "output_type": "stream",
          "name": "stdout",
          "text": [
            "Best Parameters: {'max_depth': 20, 'min_samples_leaf': 2, 'min_samples_split': 2, 'n_estimators': 100}\n"
          ]
        }
      ]
    },
    {
      "cell_type": "markdown",
      "source": [
        "#**Train and Evaluate XGBoost Model**"
      ],
      "metadata": {
        "id": "f3WfvI95j_q_"
      }
    },
    {
      "cell_type": "code",
      "source": [
        "# Train XGBoost Regressor\n",
        "xgb = XGBRegressor(n_estimators=200, learning_rate=0.05, max_depth=6)\n",
        "xgb.fit(X_train, y_train)\n",
        "\n",
        "# Make predictions\n",
        "xgb_pred = xgb.predict(X_test)\n",
        "\n",
        "# Evaluate the model\n",
        "print(\"XGBoost R² Score:\", r2_score(y_test, xgb_pred))\n"
      ],
      "metadata": {
        "colab": {
          "base_uri": "https://localhost:8080/"
        },
        "id": "WS-Wh6NckLfK",
        "outputId": "57097e9b-57a8-49b0-b1e6-730a1a1144fe"
      },
      "execution_count": 8,
      "outputs": [
        {
          "output_type": "stream",
          "name": "stdout",
          "text": [
            "XGBoost R² Score: 0.8624523574789782\n"
          ]
        }
      ]
    }
  ]
}